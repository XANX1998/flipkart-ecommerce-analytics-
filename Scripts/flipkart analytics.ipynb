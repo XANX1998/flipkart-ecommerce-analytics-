{
 "cells": [
  {
   "cell_type": "code",
   "execution_count": 1,
   "id": "f5d20a6a-6c58-4018-a037-75c51440e2be",
   "metadata": {},
   "outputs": [],
   "source": [
    "import pandas as pd"
   ]
  },
  {
   "cell_type": "code",
   "execution_count": 15,
   "id": "bba9f165-c9f4-45cc-a5c4-10a5901783fb",
   "metadata": {},
   "outputs": [],
   "source": [
    "customers = pd.read_csv(\"customers.csv\")\n",
    "products = pd.read_csv(\"products.csv\")\n",
    "sellers = pd.read_csv(\"sellers.csv\")\n",
    "sales = pd.read_csv(\"sales_fact.csv\")"
   ]
  },
  {
   "cell_type": "code",
   "execution_count": 25,
   "id": "1a23fdbd-d514-498e-ac68-3f4334c69a95",
   "metadata": {},
   "outputs": [],
   "source": [
    "def clean_columns(df):\n",
    "    df.columns = (\n",
    "        df.columns\n",
    "        .str.strip()\n",
    "        .str.lower()\n",
    "        .str.replace(\" \", \"_\")\n",
    "        .str.replace(\"-\", \"_\")\n",
    "    )\n",
    "    return df\n",
    "\n",
    "customers = clean_columns(customers)\n",
    "products = clean_columns(products)\n",
    "sellers = clean_columns(sellers)\n",
    "sales = clean_columns(sales)"
   ]
  },
  {
   "cell_type": "code",
   "execution_count": 27,
   "id": "91f1ee85-da50-4d6c-8baf-5e145b7c2cd0",
   "metadata": {},
   "outputs": [],
   "source": [
    "if \"order_date\" in sales.columns:\n",
    "    sales[\"order_date\"] = pd.to_datetime(sales[\"order_date\"], errors=\"coerce\")\n",
    "\n",
    "# Ensure numeric columns are numeric\n",
    "for col in [\"total_amount\", \"discount_amount\", \"shipping_cost\", \"rating\"]:\n",
    "    if col in sales.columns:\n",
    "        sales[col] = pd.to_numeric(sales[col], errors=\"coerce\")"
   ]
  },
  {
   "cell_type": "code",
   "execution_count": 29,
   "id": "9afe0e45-fa11-4d6a-85bd-a34116a0ab11",
   "metadata": {},
   "outputs": [],
   "source": [
    "if \"order_date\" in sales.columns:\n",
    "    sales[\"order_year\"] = sales[\"order_date\"].dt.year\n",
    "    sales[\"order_month\"] = sales[\"order_date\"].dt.month\n",
    "\n",
    "if {\"total_amount\", \"discount_amount\", \"shipping_cost\"}.issubset(sales.columns):\n",
    "    sales[\"net_amount\"] = (\n",
    "        sales[\"total_amount\"]\n",
    "        - sales[\"discount_amount\"].fillna(0)\n",
    "        - sales[\"shipping_cost\"].fillna(0)\n",
    "    )\n"
   ]
  },
  {
   "cell_type": "code",
   "execution_count": 31,
   "id": "fd9a2c0a-2ddc-42b4-98d7-e90887d251ea",
   "metadata": {},
   "outputs": [],
   "source": [
    "for df in [customers, products, sellers, sales]:\n",
    "    for col in df.select_dtypes(include=\"object\").columns:\n",
    "        df[col] = df[col].fillna(\"Unknown\")\n",
    "\n",
    "# Replace missing numeric values with 0\n",
    "for df in [customers, products, sellers, sales]:\n",
    "    for col in df.select_dtypes(include=\"number\").columns:\n",
    "        df[col] = df[col].fillna(0)"
   ]
  },
  {
   "cell_type": "code",
   "execution_count": 34,
   "id": "2c879fa0-7a8a-468a-b92b-5bf81b98c648",
   "metadata": {},
   "outputs": [
    {
     "name": "stdout",
     "output_type": "stream",
     "text": [
      "Negative total_amount rows:\n",
      "         order_id customer_id product_id seller_id  quantity order_date  \\\n",
      "89        ORD_90   CUST_4078  PROD_7565  SELL_729         5 2023-01-01   \n",
      "102      ORD_103   CUST_3686   PROD_205  SELL_820         3 2023-01-01   \n",
      "144      ORD_145   CUST_4255  PROD_1316  SELL_425         1 2023-01-02   \n",
      "266      ORD_267    CUST_524  PROD_6467   SELL_56         3 2023-01-02   \n",
      "291      ORD_292   CUST_3561  PROD_6321  SELL_563         1 2023-01-03   \n",
      "...          ...         ...        ...       ...       ...        ...   \n",
      "49645  ORD_49646    CUST_932  PROD_1765   SELL_28         1 2023-12-28   \n",
      "49741  ORD_49742    CUST_765  PROD_8750  SELL_273         1 2023-12-29   \n",
      "49760  ORD_49761   CUST_4448  PROD_6124  SELL_640         2 2023-12-29   \n",
      "49895  ORD_49896   CUST_4475  PROD_9481  SELL_928         2 2023-12-30   \n",
      "49920  ORD_49921   CUST_4473  PROD_5523  SELL_127         5 2023-12-30   \n",
      "\n",
      "       shipping_cost  discount_amount    payment_method  total_amount  \\\n",
      "89             16.25           188.77  Cash on Delivery        -75.72   \n",
      "102            29.43           168.61       Credit Card        -91.30   \n",
      "144            26.86           132.05       Net Banking        -27.01   \n",
      "266             9.94           105.94               UPI        -31.17   \n",
      "291             8.82           171.18  Cash on Delivery        -86.80   \n",
      "...              ...              ...               ...           ...   \n",
      "49645           5.31           118.21       Net Banking        -62.44   \n",
      "49741           4.72           194.09       Credit Card       -131.49   \n",
      "49760           3.76           193.80       Credit Card       -112.28   \n",
      "49895          11.66            95.37        Debit Card        -60.87   \n",
      "49920          10.55           132.49               UPI        -43.24   \n",
      "\n",
      "      delivery_status  review_rating  order_year  order_month  net_amount  \n",
      "89            Pending              1        2023            1     -280.74  \n",
      "102         Delivered              1        2023            1     -289.34  \n",
      "144           Pending              2        2023            1     -185.92  \n",
      "266         Cancelled              4        2023            1     -147.05  \n",
      "291         Delivered              1        2023            1     -266.80  \n",
      "...               ...            ...         ...          ...         ...  \n",
      "49645         Pending              1        2023           12     -185.96  \n",
      "49741       Delivered              3        2023           12     -330.30  \n",
      "49760       Cancelled              2        2023           12     -309.84  \n",
      "49895       Cancelled              2        2023           12     -167.90  \n",
      "49920       Cancelled              5        2023           12     -186.28  \n",
      "\n",
      "[708 rows x 15 columns]\n"
     ]
    }
   ],
   "source": [
    "if \"total_amount\" in sales.columns:\n",
    "    print(\"Negative total_amount rows:\\n\", sales[sales[\"total_amount\"] < 0])\n",
    "\n",
    "if \"rating\" in sales.columns:\n",
    "    print(\"Invalid ratings:\\n\", sales[(sales[\"rating\"] < 1) | (sales[\"rating\"] > 5)])\n"
   ]
  },
  {
   "cell_type": "code",
   "execution_count": 36,
   "id": "eb0bad67-ee4a-42da-b27a-03167efc7764",
   "metadata": {},
   "outputs": [
    {
     "name": "stdout",
     "output_type": "stream",
     "text": [
      "Unique customer IDs: 5000 / 5000\n",
      "Unique product IDs: 10000 / 10000\n",
      "Unique seller IDs: 1000 / 1000\n"
     ]
    }
   ],
   "source": [
    "print(\"Unique customer IDs:\", customers[\"customer_id\"].nunique(), \"/\", len(customers))\n",
    "print(\"Unique product IDs:\", products[\"product_id\"].nunique(), \"/\", len(products))\n",
    "print(\"Unique seller IDs:\", sellers[\"seller_id\"].nunique(), \"/\", len(sellers))"
   ]
  },
  {
   "cell_type": "code",
   "execution_count": 38,
   "id": "886f429e-ce25-4b6b-9dc3-b33a491c2de6",
   "metadata": {},
   "outputs": [
    {
     "name": "stdout",
     "output_type": "stream",
     "text": [
      "Missing customers in sales_fact: 0\n",
      "Missing products in sales_fact: 0\n",
      "Missing sellers in sales_fact: 0\n"
     ]
    }
   ],
   "source": [
    "missing_customers = set(sales[\"customer_id\"]) - set(customers[\"customer_id\"])\n",
    "missing_products = set(sales[\"product_id\"]) - set(products[\"product_id\"])\n",
    "missing_sellers = set(sales[\"seller_id\"]) - set(sellers[\"seller_id\"])\n",
    "\n",
    "print(\"Missing customers in sales_fact:\", len(missing_customers))\n",
    "print(\"Missing products in sales_fact:\", len(missing_products))\n",
    "print(\"Missing sellers in sales_fact:\", len(missing_sellers))"
   ]
  },
  {
   "cell_type": "code",
   "execution_count": 40,
   "id": "1c65383d-7787-4932-9c2f-c24d1059cc02",
   "metadata": {},
   "outputs": [
    {
     "name": "stdout",
     "output_type": "stream",
     "text": [
      "\n",
      "✅ Cleaning complete! Cleaned files saved as *_clean.csv\n"
     ]
    }
   ],
   "source": [
    "customers.to_csv(\"customers_clean.csv\", index=False)\n",
    "products.to_csv(\"products_clean.csv\", index=False)\n",
    "sellers.to_csv(\"sellers_clean.csv\", index=False)\n",
    "sales.to_csv(\"sales_fact_clean.csv\", index=False)\n",
    "\n",
    "print(\"\\n✅ Cleaning complete! Cleaned files saved as *_clean.csv\")"
   ]
  },
  {
   "cell_type": "code",
   "execution_count": null,
   "id": "564541ea-2583-469e-ad4c-b2fa15cdd3b3",
   "metadata": {},
   "outputs": [],
   "source": []
  }
 ],
 "metadata": {
  "kernelspec": {
   "display_name": "Python [conda env:base] *",
   "language": "python",
   "name": "conda-base-py"
  },
  "language_info": {
   "codemirror_mode": {
    "name": "ipython",
    "version": 3
   },
   "file_extension": ".py",
   "mimetype": "text/x-python",
   "name": "python",
   "nbconvert_exporter": "python",
   "pygments_lexer": "ipython3",
   "version": "3.12.7"
  }
 },
 "nbformat": 4,
 "nbformat_minor": 5
}
